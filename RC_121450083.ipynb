{
  "nbformat": 4,
  "nbformat_minor": 0,
  "metadata": {
    "colab": {
      "provenance": []
    },
    "kernelspec": {
      "name": "python3",
      "display_name": "Python 3"
    },
    "language_info": {
      "name": "python"
    }
  },
  "cells": [
    {
      "cell_type": "markdown",
      "source": [
        "# **TUGAS Pertemuan 9 (MULTIMEDIA DATABASE)**\n",
        "# **JELLI KURNILIA - 121450083**\n",
        "# **TEKNOLOGI BASIS DATA (RC)**"
      ],
      "metadata": {
        "id": "_Gto1lNmBf-f"
      }
    },
    {
      "cell_type": "code",
      "source": [
        "from google.colab import drive\n",
        "drive.mount('/content/drive')\n"
      ],
      "metadata": {
        "colab": {
          "base_uri": "https://localhost:8080/"
        },
        "id": "1eh7kzvK6kpA",
        "outputId": "01d8106b-8460-42cf-f5d1-6e945508ba34"
      },
      "execution_count": 3,
      "outputs": [
        {
          "output_type": "stream",
          "name": "stdout",
          "text": [
            "Mounted at /content/drive\n"
          ]
        }
      ]
    },
    {
      "cell_type": "markdown",
      "source": [
        "## `ANALISIS`\n",
        "### Kumpulan data yang digunakan dalam artikel tersebut adalah CIFAR-10, yang merupakan kumpulan data gambar dari Canadian Institute for Advanced Research. CIFAR-10 terdiri dari 60.000 gambar berwarna dengan ukuran 32x32 piksel. Gambar-gambar ini termasuk dalam berbagai kelas objek, seperti anjing, kucing, dan pesawat terbang. Karena data berukuran besar maka saya menyimpannya dalam gdrive dan mengkoneksikanya ke colab."
      ],
      "metadata": {
        "id": "qbgTFuTbEEF6"
      }
    },
    {
      "cell_type": "code",
      "execution_count": 31,
      "metadata": {
        "colab": {
          "base_uri": "https://localhost:8080/"
        },
        "id": "Krzlv2KQ6d4o",
        "outputId": "d1fb93be-e921-4dc0-9052-00de6a3c0e16"
      },
      "outputs": [
        {
          "output_type": "stream",
          "name": "stdout",
          "text": [
            "Loaded CIFAR-10 training set:\n",
            " - np.shape(images)     (50000, 32, 32, 3)\n",
            " - np.shape(labels)     (50000,)\n"
          ]
        }
      ],
      "source": [
        "import numpy as np\n",
        "import pickle\n",
        "from pathlib import Path\n",
        "\n",
        "# Path to the unzipped CIFAR data\n",
        "data_dir = Path(\"/content/drive/MyDrive/TBD-JelliKurnilia/cifar-10-batches-py/\")\n",
        "\n",
        "# Unpickle function provided by the CIFAR hosts\n",
        "def unpickle(file):\n",
        "    with open(file, \"rb\") as fo:\n",
        "        dict = pickle.load(fo, encoding=\"bytes\")\n",
        "    return dict\n",
        "\n",
        "images, labels = [], []\n",
        "for batch in data_dir.glob(\"data_batch_*\"):\n",
        "    batch_data = unpickle(batch)\n",
        "    for i, flat_im in enumerate(batch_data[b\"data\"]):\n",
        "        im_channels = []\n",
        "        # Each image is flattened, with channels in order of R, G, B\n",
        "        for j in range(3):\n",
        "            im_channels.append(\n",
        "                flat_im[j * 1024 : (j + 1) * 1024].reshape((32, 32))\n",
        "            )\n",
        "        # Reconstruct the original image\n",
        "        images.append(np.dstack((im_channels)))\n",
        "        # Save the label\n",
        "        labels.append(batch_data[b\"labels\"][i])\n",
        "\n",
        "print(\"Loaded CIFAR-10 training set:\")\n",
        "print(f\" - np.shape(images)     {np.shape(images)}\")\n",
        "print(f\" - np.shape(labels)     {np.shape(labels)}\")"
      ]
    },
    {
      "cell_type": "markdown",
      "source": [
        "output diatas menyimpulkan bahwa dataset CIFAR-10 yang dimuat terdiri dari 50.000 gambar berwarna dengan resolusi 32x32 piksel, yang masing-masing dikaitkan dengan label kelas yang sesuai."
      ],
      "metadata": {
        "id": "TGMJFGMSEhnb"
      }
    },
    {
      "cell_type": "markdown",
      "source": [
        "# `ANALISIS`\n",
        "\n",
        "Kode di atas merupakan bagian dari artikel yang menjelaskan tentang cara menyimpan dan mengakses banyak gambar dalam Python, khususnya menggunakan dataset CIFAR-10. Kode tersebut dimulai dengan mengimpor modul-modul yang diperlukan, yaitu `numpy` untuk operasi array dan matriks, `pickle` untuk membaca data yang disimpan dalam format pickle, dan `pathlib` untuk memanipulasi path file. Selanjutnya, kode tersebut mendefinisikan variabel `data_dir` yang berisi path ke direktori data CIFAR-10 yang telah di-unzip.\n",
        "Kemudian, terdapat fungsi `unpickle(file)` yang digunakan untuk membaca file pickle CIFAR-10. Fungsi ini membuka file yang diberikan, membaca data menggunakan `pickle.load()`, dan mengembalikan dictionary yang berisi data CIFAR-10.\n",
        "\n",
        "Setelah itu, dilakukan iterasi melalui setiap batch data dalam `data_dir` menggunakan loop `for batch in data_dir.glob(\"data_batch_*\")`. Setiap batch data di-\"unpickle\" menggunakan fungsi `unpickle()` dan disimpan dalam variabel `batch_data`. Selanjutnya, terdapat loop `for i, flat_im in enumerate(batch_data[b\"data\"]):` yang digunakan untuk mengiterasi melalui setiap gambar dalam batch data. Setiap gambar dalam bentuk flat array direkonstruksi menjadi array tiga dimensi dengan tiga saluran warna (R, G, B). Proses ini dilakukan dengan membagi gambar flat menjadi tiga bagian yang mewakili saluran warna masing-masing, yaitu R, G, dan B. Setelah itu, array tiga dimensi ini digabungkan menggunakan `np.dstack()` untuk menghasilkan gambar asli. Gambar-gambar ini disimpan dalam list `images`.\n",
        "\n",
        "Selain itu, label-label gambar juga disimpan dalam list `labels` menggunakan pernyataan `labels.append(batch_data[b\"labels\"][i])`. Terakhir, dilakukan cetakan untuk menampilkan informasi tentang CIFAR-10 training set yang telah dimuat. Informasi yang ditampilkan adalah bentuk (`shape`) dari array `images` dan `labels` menggunakan `np.shape()`."
      ],
      "metadata": {
        "id": "3cq85IWaETF9"
      }
    },
    {
      "cell_type": "code",
      "source": [
        "!pip install Pillow"
      ],
      "metadata": {
        "colab": {
          "base_uri": "https://localhost:8080/"
        },
        "id": "iURoU7MB_gl0",
        "outputId": "8b4f1d23-b3a9-45fd-f051-47636b16e77c"
      },
      "execution_count": 5,
      "outputs": [
        {
          "output_type": "stream",
          "name": "stdout",
          "text": [
            "Requirement already satisfied: Pillow in /usr/local/lib/python3.10/dist-packages (9.4.0)\n"
          ]
        }
      ]
    },
    {
      "cell_type": "markdown",
      "source": [
        "# `ANALISIS`\n",
        "Perintah ini digunakan untuk menginstal paket Pillow. Pillow adalah fork dari Python Imaging Library (PIL) yang merupakan salah satu perpustakaan populer untuk memanipulasi gambar dalam Python. Dengan menginstal Pillow, Anda dapat melakukan berbagai operasi gambar seperti membuka, menyimpan, memodifikasi, dan mengubah format gambar."
      ],
      "metadata": {
        "id": "2WxVH2bsyfG8"
      }
    },
    {
      "cell_type": "markdown",
      "source": [
        "### Getting Started With LMDB"
      ],
      "metadata": {
        "id": "_lFruBthLBFj"
      }
    },
    {
      "cell_type": "code",
      "source": [
        "!pip install lmdb"
      ],
      "metadata": {
        "colab": {
          "base_uri": "https://localhost:8080/"
        },
        "id": "X1XpUiiA_p19",
        "outputId": "d5a554d4-2326-4d68-cd9d-858df35bf081"
      },
      "execution_count": 6,
      "outputs": [
        {
          "output_type": "stream",
          "name": "stdout",
          "text": [
            "Collecting lmdb\n",
            "  Downloading lmdb-1.4.1-cp310-cp310-manylinux_2_17_x86_64.manylinux2014_x86_64.whl (299 kB)\n",
            "\u001b[?25l     \u001b[90m━━━━━━━━━━━━━━━━━━━━━━━━━━━━━━━━━━━━━━━━\u001b[0m \u001b[32m0.0/299.2 kB\u001b[0m \u001b[31m?\u001b[0m eta \u001b[36m-:--:--\u001b[0m\r\u001b[2K     \u001b[91m━━━━━━━━━━━━━━━━━━━━━\u001b[0m\u001b[91m╸\u001b[0m\u001b[90m━━━━━━━━━━━━━━━━━━\u001b[0m \u001b[32m163.8/299.2 kB\u001b[0m \u001b[31m5.3 MB/s\u001b[0m eta \u001b[36m0:00:01\u001b[0m\r\u001b[2K     \u001b[90m━━━━━━━━━━━━━━━━━━━━━━━━━━━━━━━━━━━━━━━━\u001b[0m \u001b[32m299.2/299.2 kB\u001b[0m \u001b[31m6.0 MB/s\u001b[0m eta \u001b[36m0:00:00\u001b[0m\n",
            "\u001b[?25hInstalling collected packages: lmdb\n",
            "Successfully installed lmdb-1.4.1\n"
          ]
        }
      ]
    },
    {
      "cell_type": "markdown",
      "source": [
        "# `ANALISIS`\n",
        "Perintah ini digunakan untuk menginstal paket lmdb. LMDB adalah sistem manajemen basis data berbasis file yang memetakan seluruh basis data ke dalam memori, yang memungkinkan akses yang cepat dan efisien.\n"
      ],
      "metadata": {
        "id": "HJQruEr3ymwV"
      }
    },
    {
      "cell_type": "markdown",
      "source": [
        "### Getting Started With HDF5"
      ],
      "metadata": {
        "id": "JBpEV0RLLMBt"
      }
    },
    {
      "cell_type": "code",
      "source": [
        "!pip install h5py"
      ],
      "metadata": {
        "colab": {
          "base_uri": "https://localhost:8080/"
        },
        "id": "9jjH8Kk9_rMl",
        "outputId": "f7da2f33-3059-41ac-a450-29725ad69588"
      },
      "execution_count": 7,
      "outputs": [
        {
          "output_type": "stream",
          "name": "stdout",
          "text": [
            "Requirement already satisfied: h5py in /usr/local/lib/python3.10/dist-packages (3.9.0)\n",
            "Requirement already satisfied: numpy>=1.17.3 in /usr/local/lib/python3.10/dist-packages (from h5py) (1.25.2)\n"
          ]
        }
      ]
    },
    {
      "cell_type": "markdown",
      "source": [
        "# `ANALISIS`\n",
        "Perintah ini digunakan untuk menginstal paket h5py. HDF5 adalah format file yang digunakan untuk menyimpan dan mengelola data yang besar dan kompleks. H5py memungkinkan Anda untuk membuat, membaca, menulis, dan memanipulasi dataset dalam file HDF5."
      ],
      "metadata": {
        "id": "XkibnrGVyv9Q"
      }
    },
    {
      "cell_type": "markdown",
      "source": [
        "### Storing a Single Image"
      ],
      "metadata": {
        "id": "hHtevazYLbmJ"
      }
    },
    {
      "cell_type": "code",
      "source": [
        "from pathlib import Path\n",
        "\n",
        "disk_dir = Path(\"/content/drive/MyDrive/TBD-JelliKurnilia/disk/\")\n",
        "lmdb_dir = Path(\"/content/drive/MyDrive/TBD-JelliKurnilia/lmdb/\")\n",
        "hdf5_dir = Path(\"/content/drive/MyDrive/TBD-JelliKurnilia/hdf5/\")"
      ],
      "metadata": {
        "id": "crPqKcbs_tDf"
      },
      "execution_count": 33,
      "outputs": []
    },
    {
      "cell_type": "code",
      "source": [
        "disk_dir.mkdir(parents=True, exist_ok=True)\n",
        "lmdb_dir.mkdir(parents=True, exist_ok=True)\n",
        "hdf5_dir.mkdir(parents=True, exist_ok=True)"
      ],
      "metadata": {
        "id": "mNDa7OYfAMUr"
      },
      "execution_count": 34,
      "outputs": []
    },
    {
      "cell_type": "markdown",
      "source": [
        "# `ANALISIS`\n",
        "membuat direktori atau folder untuk menyimpan gambar dalam tiga format yang berbeda: disk, LMDB, dan HDF5. Kemudian, ada tiga variabel yang didefinisikan: disk_dir, lmdb_dir, dan hdf5_dir. Ketiga variabel ini mewakili jalur ke direktori tempat gambar akan disimpan dalam format yang sesuai.\n",
        "\n",
        "Selanjutnya, metode mkdir() digunakan pada masing-masing variabel direktori untuk membuat direktori tersebut jika belum ada. Argumen parents=True memastikan bahwa direktori yang ada dalam jalur juga dibuat jika belum ada, dan exist_ok=True memungkinkan metode ini untuk berjalan tanpa kesalahan jika direktori sudah ada."
      ],
      "metadata": {
        "id": "jqNnyxClzDNg"
      }
    },
    {
      "cell_type": "code",
      "source": [
        "from PIL import Image\n",
        "import csv\n",
        "\n",
        "def store_single_disk(image, image_id, label):\n",
        "    \"\"\" Stores a single image as a .png file on disk.\n",
        "        Parameters:\n",
        "        ---------------\n",
        "        image       image array, (32, 32, 3) to be stored\n",
        "        image_id    integer unique ID for image\n",
        "        label       image label\n",
        "    \"\"\"\n",
        "    Image.fromarray(image).save(disk_dir / f\"{image_id}.png\")\n",
        "\n",
        "    with open(disk_dir / f\"{image_id}.csv\", \"wt\") as csvfile:\n",
        "        writer = csv.writer(\n",
        "            csvfile, delimiter=\" \", quotechar=\"|\", quoting=csv.QUOTE_MINIMAL\n",
        "        )\n",
        "        writer.writerow([label])"
      ],
      "metadata": {
        "id": "79qET9y9AMnj"
      },
      "execution_count": 35,
      "outputs": []
    },
    {
      "cell_type": "markdown",
      "source": [
        "# `ANALISIS`\n",
        "Fungsi `store_single_disk` adalah sebuah fungsi yang didefinisikan untuk menyimpan gambar tunggal ke dalam format file .png di disk. Fungsi ini menerima tiga parameter: `image` (array gambar dengan ukuran (32, 32, 3)), `image_id` (ID unik untuk gambar), dan `label` (label gambar).\n",
        "\n",
        "Fungsi ini pertama-tama menggunakan modul `Image` dari PIL (Pillow) untuk mengubah array gambar menjadi objek `Image` menggunakan `Image.fromarray(image)`. Kemudian, gambar tersebut disimpan sebagai file .png di direktori yang ditentukan dengan menggunakan metode `save` pada objek `Image`, dengan menggunakan `disk_dir / f\"{image_id}.png\"` untuk menentukan jalur file yang tepat.\n",
        "\n",
        "Selanjutnya, fungsi membuka file CSV dengan nama `{image_id}.csv` menggunakan modul `csv`. Objek `csv.writer` dibuat dengan parameter file CSV yang dibuka, dan pengaturan seperti delimiter (pemisah) yang diatur sebagai spasi, quotechar (karakter penutup) yang diatur sebagai \"|\", dan quoting (pengutipan) yang diatur sebagai `csv.QUOTE_MINIMAL`. Kemudian, label gambar ditulis ke dalam file CSV menggunakan metode `writer.writerow([label])`.\n",
        "\n",
        "Dengan menggunakan fungsi `store_single_disk`, gambar tunggal dapat dengan mudah disimpan dalam format .png di disk, dan label gambar juga dapat ditulis ke dalam file CSV yang sesuai."
      ],
      "metadata": {
        "id": "0cEQA85Azj8k"
      }
    },
    {
      "cell_type": "markdown",
      "source": [
        "### Storing to LMDB"
      ],
      "metadata": {
        "id": "58xKcwycMG_1"
      }
    },
    {
      "cell_type": "code",
      "source": [
        "class CIFAR_Image:\n",
        "    def __init__(self, image, label):\n",
        "        # Dimensions of image for reconstruction - not really necessary\n",
        "        # for this dataset, but some datasets may include images of\n",
        "        # varying sizes\n",
        "        self.channels = image.shape[2]\n",
        "        self.size = image.shape[:2]\n",
        "\n",
        "        self.image = image.tobytes()\n",
        "        self.label = label\n",
        "\n",
        "    def get_image(self):\n",
        "        \"\"\" Returns the image as a numpy array. \"\"\"\n",
        "        image = np.frombuffer(self.image, dtype=np.uint8)\n",
        "        return image.reshape(*self.size, self.channels)"
      ],
      "metadata": {
        "id": "PtIWEzQIAQ4M"
      },
      "execution_count": 36,
      "outputs": []
    },
    {
      "cell_type": "markdown",
      "source": [
        "Kelas CIFAR_Image merupakan sebuah kelas yang digunakan untuk merepresentasikan gambar dan labelnya. Pada konstruktor (__init__), dimensi dan ukuran gambar disimpan sebagai atribut. Gambar diubah menjadi bentuk byte (self.image = image.tobytes()) dan label disimpan sebagai atribut self.label. Method get_image digunakan untuk mengembalikan gambar sebagai array numpy. Gambar dikembalikan dengan mengonversi byte kembali menjadi array menggunakan np.frombuffer dan mengembalikannya dalam dimensi yang sesuai menggunakan reshape.\n"
      ],
      "metadata": {
        "id": "jRVtSxuH0ELt"
      }
    },
    {
      "cell_type": "code",
      "source": [
        "import lmdb\n",
        "import pickle\n",
        "\n",
        "def store_single_lmdb(image, image_id, label):\n",
        "    \"\"\" Stores a single image to a LMDB.\n",
        "        Parameters:\n",
        "        ---------------\n",
        "        image       image array, (32, 32, 3) to be stored\n",
        "        image_id    integer unique ID for image\n",
        "        label       image label\n",
        "    \"\"\"\n",
        "    map_size = image.nbytes * 10\n",
        "\n",
        "    # Create a new LMDB environment\n",
        "    env = lmdb.open(str(lmdb_dir / f\"single_lmdb\"), map_size=map_size)\n",
        "\n",
        "    # Start a new write transaction\n",
        "    with env.begin(write=True) as txn:\n",
        "        # All key-value pairs need to be strings\n",
        "        value = CIFAR_Image(image, label)\n",
        "        key = f\"{image_id:08}\"\n",
        "        txn.put(key.encode(\"ascii\"), pickle.dumps(value))\n",
        "    env.close()"
      ],
      "metadata": {
        "id": "_fg8Q9y6ATBZ"
      },
      "execution_count": 37,
      "outputs": []
    },
    {
      "cell_type": "markdown",
      "source": [
        "Fungsi store_single_lmdb didefinisikan untuk menyimpan gambar tunggal ke dalam format LMDB. Fungsi ini menerima tiga parameter: image (array gambar dengan ukuran (32, 32, 3)), image_id (ID unik untuk gambar), dan label (label gambar).\n",
        "\n",
        "map_size dihitung sebagai jumlah byte yang diperlukan untuk menyimpan gambar dalam LMDB. Nilai ini digunakan untuk mengatur ukuran peta (map) dalam lingkungan LMDB yang akan dibuat. LMDB baru dibuat menggunakan lmdb.open. Direktori LMDB dan nama file ditentukan dengan menggunakan lmdb_dir / f\"single_lmdb\". Ukuran peta (map) disetel dengan nilai map_size.\n",
        "\n",
        "Pada baris ke-23 hingga 26, transaksi tulis baru dimulai menggunakan env.begin(write=True). Setiap pasangan kunci-nilai dalam LMDB harus berupa string. Objek CIFAR_Image dibuat sebagai nilai, dan image_id diubah menjadi kunci dalam bentuk string dengan format delapan digit. Nilai dikonversi menjadi byte menggunakan pickle.dumps, dan pasangan kunci-nilai ditambahkan ke dalam transaksi menggunakan txn.put. Lingkungan LMDB ditutup dengan env.close() untuk mengakhiri transaksi dan memastikan data tersimpan dengan aman.\n",
        "```\n",
        "Dengan menggunakan fungsi store_single_lmdb, gambar tunggal dapat disimpan\n",
        "dalam format LMDB dengan mengonversi nilai gambar menjadi byte dan\n",
        "menyimpannya dalam lingkungan LMDB dengan kunci image_id dan nilai CIFAR_Image.\n",
        "```"
      ],
      "metadata": {
        "id": "0BMOWlT20Z4R"
      }
    },
    {
      "cell_type": "markdown",
      "source": [
        "### Storing With HDF5"
      ],
      "metadata": {
        "id": "WTAiN6-aMe0k"
      }
    },
    {
      "cell_type": "code",
      "source": [
        "import h5py\n",
        "\n",
        "def store_single_hdf5(image, image_id, label):\n",
        "    \"\"\" Stores a single image to an HDF5 file.\n",
        "        Parameters:\n",
        "        ---------------\n",
        "        image       image array, (32, 32, 3) to be stored\n",
        "        image_id    integer unique ID for image\n",
        "        label       image label\n",
        "    \"\"\"\n",
        "    # Create a new HDF5 file\n",
        "    file = h5py.File(hdf5_dir / f\"{image_id}.h5\", \"w\")\n",
        "\n",
        "    # Create a dataset in the file\n",
        "    dataset = file.create_dataset(\n",
        "        \"image\", np.shape(image), h5py.h5t.STD_U8BE, data=image\n",
        "    )\n",
        "    meta_set = file.create_dataset(\n",
        "        \"meta\", np.shape(label), h5py.h5t.STD_U8BE, data=label\n",
        "    )\n",
        "    file.close()"
      ],
      "metadata": {
        "id": "6X_SuOPhAU0E"
      },
      "execution_count": 38,
      "outputs": []
    },
    {
      "cell_type": "markdown",
      "source": [
        " Fungsi store_single_hdf5 didefinisikan untuk melakukan penyimpanan tersebut. Fungsi ini menerima tiga parameter, yaitu image yang merupakan array gambar dengan ukuran (32, 32, 3), image_id yang merupakan ID unik untuk gambar, dan label yang merepresentasikan label dari gambar tersebut. Proses penyimpanan dimulai dengan pembuatan file HDF5 baru pada baris ke-7 menggunakan h5py.File. Nama file HDF5 ditentukan berdasarkan image_id dengan menggunakan ekstensi \".h5\". Selanjutnya, pada baris ke-10, dataset dengan nama \"image\" dibuat di dalam file tersebut menggunakan create_dataset. Dataset ini memiliki ukuran yang sama dengan image dan menggunakan tipe data h5py.h5t.STD_U8BE yang merupakan unsigned 8-bit big-endian. Data gambar kemudian disimpan ke dalam dataset ini.\n",
        "\n",
        " ```\n",
        " Dengan menggunakan fungsi store_single_hdf5, gambar tunggal dapat dengan\n",
        " mudah disimpan dalam format file HDF5. Dataset \"image\" digunakan untuk\n",
        " menyimpan gambar, sementara dataset \"meta\" digunakan untuk menyimpan label gambar.\n",
        " ```"
      ],
      "metadata": {
        "id": "YViMy5dG0-83"
      }
    },
    {
      "cell_type": "markdown",
      "source": [
        "### Experiments for Storing a Single Image"
      ],
      "metadata": {
        "id": "YgeYrU4hOiiK"
      }
    },
    {
      "cell_type": "code",
      "source": [
        "\n",
        "_store_single_funcs = dict(\n",
        "    disk=store_single_disk, lmdb=store_single_lmdb, hdf5=store_single_hdf5\n",
        ")"
      ],
      "metadata": {
        "id": "yUlJa2LSAWWc"
      },
      "execution_count": 39,
      "outputs": []
    },
    {
      "cell_type": "code",
      "source": [
        "from timeit import timeit\n",
        "\n",
        "store_single_timings = dict()\n",
        "\n",
        "for method in (\"disk\", \"lmdb\", \"hdf5\"):\n",
        "    t = timeit(\n",
        "        \"_store_single_funcs[method](image, 0, label)\",\n",
        "        setup=\"image=images[0]; label=labels[0]\",\n",
        "        number=1,\n",
        "        globals=globals(),\n",
        "    )\n",
        "    store_single_timings[method] = t\n",
        "    print(f\"Method: {method}, Time usage: {t}\")"
      ],
      "metadata": {
        "colab": {
          "base_uri": "https://localhost:8080/"
        },
        "id": "oxpe1Yb4AYhw",
        "outputId": "ed9a0e11-d8f6-4ce7-be46-7315edba67ff"
      },
      "execution_count": 40,
      "outputs": [
        {
          "output_type": "stream",
          "name": "stdout",
          "text": [
            "Method: disk, Time usage: 0.020252908000202297\n",
            "Method: lmdb, Time usage: 0.024283320999984426\n",
            "Method: hdf5, Time usage: 0.01285695200022019\n"
          ]
        }
      ]
    },
    {
      "cell_type": "markdown",
      "source": [
        "Kode diatas dibuat untuk mengukur waktu eksekusi dari tiga metode penyimpanan yang berbeda: disk, lmdb, dan hdf5. Tujuannya adalah untuk membandingkan performa dari ketiga metode tersebut dalam menyimpan data gambar tunggal. Dan dapat disimpulkan bahwa berdasarkan waktu yang tercatat dalam output tersebut, metode \"hdf5\" memiliki waktu penggunaan yang paling rendah yaitu 0.01285695200022019.\n",
        "\n",
        "dictionary _store_single_funcs dibuat untuk menyimpan fungsi-fungsi penyimpanan, dengan kunci-kunci dictionary adalah metode penyimpanan dan nilai-nilainya adalah fungsi-fungsi yang sesuai. dictionary store_single_timings dibuat untuk menyimpan waktu eksekusi dari setiap metode penyimpanan. Dilakukan iterasi pada metode penyimpanan yang tersedia.\n",
        "Pada setiap iterasi, dilakukan pengecekan apakah daftar images dan labels tidak kosong. Jika tidak kosong, dilakukan pengukuran waktu eksekusi menggunakan fungsi timeit.Peng ukuran waktu eksekusi dilakukan dengan memanggil fungsi penyimpanan yang sesuai melalui _store_single_funcs[method], dan menggunakan timeit untuk mengukur waktu eksekusi. Hasil waktu eksekusi dicatat dalam store_single_timings dengan kunci sesuai metode penyimpanan yang sedang dieksekusi.Waktu eksekusi untuk setiap metode penyimpanan dicetak menggunakan print. Jika daftar images atau labels kosong, pesan error akan dicetak."
      ],
      "metadata": {
        "id": "oM76JMLT2KsM"
      }
    },
    {
      "cell_type": "markdown",
      "source": [
        "### Storing Many Images"
      ],
      "metadata": {
        "id": "F5EU_HaYOz9Z"
      }
    },
    {
      "cell_type": "markdown",
      "source": [
        "### Adjusting the Code for Many Images"
      ],
      "metadata": {
        "id": "XI6968P2O3VA"
      }
    },
    {
      "cell_type": "code",
      "source": [
        "def store_many_disk(images, labels):\n",
        "    \"\"\" Stores an array of images to disk\n",
        "        Parameters:\n",
        "        ---------------\n",
        "        images       images array, (N, 32, 32, 3) to be stored\n",
        "        labels       labels array, (N, 1) to be stored\n",
        "    \"\"\"\n",
        "    num_images = len(images)\n",
        "\n",
        "    # Save all the images one by one\n",
        "    for i, image in enumerate(images):\n",
        "        Image.fromarray(image).save(disk_dir / f\"{i}.png\")\n",
        "\n",
        "    # Save all the labels to the csv file\n",
        "    with open(disk_dir / f\"{num_images}.csv\", \"w\") as csvfile:\n",
        "        writer = csv.writer(\n",
        "            csvfile, delimiter=\" \", quotechar=\"|\", quoting=csv.QUOTE_MINIMAL\n",
        "        )\n",
        "        for label in labels:\n",
        "            # This typically would be more than just one value per row\n",
        "            writer.writerow([label])\n",
        "\n",
        "def store_many_lmdb(images, labels):\n",
        "    \"\"\" Stores an array of images to LMDB.\n",
        "        Parameters:\n",
        "        ---------------\n",
        "        images       images array, (N, 32, 32, 3) to be stored\n",
        "        labels       labels array, (N, 1) to be stored\n",
        "    \"\"\"\n",
        "    num_images = len(images)\n",
        "\n",
        "    map_size = num_images * images[0].nbytes * 10\n",
        "\n",
        "    # Create a new LMDB DB for all the images\n",
        "    env = lmdb.open(str(lmdb_dir / f\"{num_images}_lmdb\"), map_size=map_size)\n",
        "\n",
        "    # Same as before — but let's write all the images in a single transaction\n",
        "    with env.begin(write=True) as txn:\n",
        "        for i in range(num_images):\n",
        "            # All key-value pairs need to be Strings\n",
        "            value = CIFAR_Image(images[i], labels[i])\n",
        "            key = f\"{i:08}\"\n",
        "            txn.put(key.encode(\"ascii\"), pickle.dumps(value))\n",
        "    env.close()\n",
        "\n",
        "def store_many_hdf5(images, labels):\n",
        "    \"\"\" Stores an array of images to HDF5.\n",
        "        Parameters:\n",
        "        ---------------\n",
        "        images       images array, (N, 32, 32, 3) to be stored\n",
        "        labels       labels array, (N, 1) to be stored\n",
        "    \"\"\"\n",
        "    num_images = len(images)\n",
        "\n",
        "    # Create a new HDF5 file\n",
        "    file = h5py.File(hdf5_dir / f\"{num_images}_many.h5\", \"w\")\n",
        "\n",
        "    # Create a dataset in the file\n",
        "    dataset = file.create_dataset(\n",
        "        \"images\", np.shape(images), h5py.h5t.STD_U8BE, data=images\n",
        "    )\n",
        "    meta_set = file.create_dataset(\n",
        "        \"meta\", np.shape(labels), h5py.h5t.STD_U8BE, data=labels\n",
        "    )\n",
        "    file.close()"
      ],
      "metadata": {
        "id": "wy7dE6znAaIv"
      },
      "execution_count": 47,
      "outputs": []
    },
    {
      "cell_type": "markdown",
      "source": [
        "Kode diatas dibuat untuk menyimpan beberapa metode penyimpanan yang berbeda untuk sebuah array gambar dan label. Kode ini berfungsi untuk menyimpan array gambar dan label ke dalam format penyimpanan yang berbeda, yaitu disk, LMDB, dan HDF5.\n",
        "\n",
        "Terdapat tiga fungsi penyimpanan yang berbeda: `store_many_disk`, `store_many_lmdb`, dan `store_many_hdf5`.\n",
        "Fungsi `store_many_disk` digunakan untuk menyimpan array gambar dan label ke dalam format disk. Setiap gambar disimpan satu per satu ke dalam file PNG, dan label-label disimpan dalam file CSV. Fungsi `store_many_lmdb` digunakan untuk menyimpan array gambar dan label ke dalam format LMDB. LMDB adalah basis data berorientasi kunci yang efisien untuk menyimpan data dengan kunci dan nilai. Pada fungsi ini, gambar-gambar dan label-label disimpan dalam satu transaksi LMDB.\n",
        "\n",
        "Fungsi `store_many_hdf5` digunakan untuk menyimpan array gambar dan label ke dalam format HDF5. HDF5 adalah sebuah format file untuk menyimpan dan mengatur data besar. Gambar-gambar dan label-label disimpan dalam file HDF5 dengan dataset yang sesuai. Dengan menggunakan kode di atas, array gambar dan label dapat disimpan ke dalam tiga format penyimpanan yang berbeda, yaitu disk, LMDB, dan HDF5, sesuai dengan fungsi-fungsi yang tersedia."
      ],
      "metadata": {
        "id": "JcIxceRy3Anw"
      }
    },
    {
      "cell_type": "markdown",
      "source": [
        "## Preparing the Dataset"
      ],
      "metadata": {
        "id": "B2reey-GPCF7"
      }
    },
    {
      "cell_type": "code",
      "source": [
        "cutoffs = [10, 100, 1000, 10000, 100000]\n",
        "\n",
        "# Let's double our images so that we have 100,000\n",
        "images = np.concatenate((images, images), axis=0)\n",
        "labels = np.concatenate((labels, labels), axis=0)\n",
        "\n",
        "# Make sure you actually have 100,000 images and labels\n",
        "print(np.shape(images))\n",
        "print(np.shape(labels))"
      ],
      "metadata": {
        "colab": {
          "base_uri": "https://localhost:8080/"
        },
        "id": "4e8n3PfPAc1j",
        "outputId": "7b2bc791-892c-45a7-d285-703a52371f50"
      },
      "execution_count": 48,
      "outputs": [
        {
          "output_type": "stream",
          "name": "stdout",
          "text": [
            "(200000, 32, 32, 3)\n",
            "(200000,)\n"
          ]
        }
      ]
    },
    {
      "cell_type": "markdown",
      "source": [
        "Output tersebut menunjukkan bahwa setelah melakukan penggandaan gambar dan label, jumlah gambar dan label dalam dataset telah meningkat menjadi 200.000. Sebelumnya, jumlah gambar dan label adalah 100.000.\n",
        "Selanjutnya, output (200000, 32, 32, 3) menunjukkan bentuk array gambar setelah dilakukan penggandaan. Array gambar memiliki dimensi 4D dengan ukuran (200000, 32, 32, 3), yang berarti terdapat 200.000 gambar dengan ukuran 32x32 piksel dan 3 saluran warna (RGB)."
      ],
      "metadata": {
        "id": "4VSXTt6OG0BX"
      }
    },
    {
      "cell_type": "markdown",
      "source": [
        "## Experiment for Storing Many Images"
      ],
      "metadata": {
        "id": "__GFsFq_PIAz"
      }
    },
    {
      "cell_type": "code",
      "source": [
        "_store_many_funcs = dict(\n",
        "    disk=store_many_disk, lmdb=store_many_lmdb, hdf5=store_many_hdf5\n",
        ")\n",
        "\n",
        "from timeit import timeit\n",
        "\n",
        "store_many_timings = {\"disk\": [], \"lmdb\": [], \"hdf5\": []}\n",
        "\n",
        "for method in (\"disk\", \"lmdb\", \"hdf5\"):\n",
        "    for cutoff in cutoffs[:3]:\n",
        "        images_ = images[:cutoff]\n",
        "        labels_ = labels[:cutoff]\n",
        "\n",
        "        setup_code = f\"_store_many = _store_many_funcs['{method}']\"\n",
        "\n",
        "        t = timeit(\n",
        "            \"_store_many(images_, labels_)\",\n",
        "            setup=setup_code,\n",
        "            number=1,\n",
        "            globals=globals(),\n",
        "        )\n",
        "        store_many_timings[method].append(t)\n",
        "\n",
        "        # Print out the method, cutoff, and elapsed time\n",
        "        print(f\"Method: {method}, Time usage: {t}\")"
      ],
      "metadata": {
        "colab": {
          "base_uri": "https://localhost:8080/"
        },
        "id": "KtorGNMKJ56m",
        "outputId": "4bd7e81e-297a-4f3a-915c-7484c2ef6a7a"
      },
      "execution_count": 46,
      "outputs": [
        {
          "output_type": "stream",
          "name": "stdout",
          "text": [
            "Method: disk, Time usage: 0.08483531300043978\n",
            "Method: disk, Time usage: 0.9055237869997654\n",
            "Method: disk, Time usage: 9.111131750999448\n",
            "Method: lmdb, Time usage: 0.017287521000071138\n",
            "Method: lmdb, Time usage: 0.019967092000115372\n",
            "Method: lmdb, Time usage: 0.05186295200019231\n",
            "Method: hdf5, Time usage: 0.01441707000049064\n",
            "Method: hdf5, Time usage: 0.013612411000394786\n",
            "Method: hdf5, Time usage: 0.021113798999977007\n"
          ]
        }
      ]
    },
    {
      "cell_type": "markdown",
      "source": [
        "Berdasarkan output yang diberikan, kita dapat melihat bahwa metode \"disk\" memiliki waktu eksekusi yang lebih lama dibandingkan dengan metode lainnya. Waktu eksekusi untuk metode \"disk\" adalah 0.3309708470001169, 1.399902959999963, dan 9.12836860499965.\n",
        "\n",
        "Di sisi lain, metode \"lmdb\" memiliki waktu eksekusi yang lebih singkat yaitu 0.02024230000006355, 0.018317178999950556, dan 0.054408534999765834.\n",
        "\n",
        "Metode \"hdf5\" juga memiliki waktu eksekusi yang relatif singkat, yaitu 0.013424293999833026, 0.01181477799991626, dan 0.020134484999744018.\n",
        "\n",
        "Berdasarkan perbandingan waktu eksekusi ini, metode \"lmdb\" dan \"hdf5\" tampaknya lebih efisien atau lebih cepat dibandingkan dengan metode \"disk\"."
      ],
      "metadata": {
        "id": "iL_CDD-gKJVg"
      }
    },
    {
      "cell_type": "markdown",
      "source": [
        "Kode diatas dibuat untuk mengukur waktu eksekusi dari tiga metode penyimpanan yang berbeda (disk, LMDB, dan HDF5) saat menyimpan array gambar dan label dengan batasan jumlah tertentu.\n",
        "\n",
        "\n",
        "Terdapat sebuah dictionary bernama `_store_many_funcs` yang berisi tiga metode penyimpanan (disk, LMDB, dan HDF5) sebagai nilai-nilainya. Dictionary `store_many_timings` dibuat untuk menyimpan waktu eksekusi dari setiap metode penyimpanan. Dilakukan pengecekan apakah array `images` dan `labels` tidak kosong. Jika array `images` dan `labels` tidak kosong, dilakukan perulangan untuk setiap nilai `cutoff` dalam list `cutoffs` dan setiap metode penyimpanan dalam tuple `(\"disk\", \"lmdb\", \"hdf5\")`.\n",
        "\n",
        "Pada setiap iterasi, menggunakan fungsi `timeit` untuk mengukur waktu eksekusi dari pemanggilan fungsi penyimpanan yang sesuai dengan metode tertentu, menggunakan subset `images` dan `labels` dengan batasan `cutoff`.hasil waktu eksekusi dicatat dalam dictionary `store_many_timings` sesuai dengan metode penyimpanan yang sedang dieksekusi.\n",
        "\n",
        "Selanjutnya, mencetak metode penyimpanan, batasan `cutoff`, dan waktu eksekusi yang diukur.Jika array `images` atau `labels` kosong, maka pesan error akan dicetak.\n",
        "\n",
        "Dengan menggunakan kode di atas, waktu eksekusi dari tiga metode penyimpanan saat menyimpan array gambar dan label dengan batasan jumlah tertentu dapat diukur dan dicatat dalam dictionary `store_many_timings`, serta dicetak untuk melihat hasilnya."
      ],
      "metadata": {
        "id": "LEIZpuSK4VvC"
      }
    },
    {
      "cell_type": "code",
      "source": [
        "import matplotlib.pyplot as plt\n",
        "\n",
        "def plot_with_legend(\n",
        "    x_range, y_data, legend_labels, x_label, y_label, title, log=False\n",
        "):\n",
        "    \"\"\" Displays a single plot with multiple datasets and matching legends.\n",
        "        Parameters:\n",
        "        --------------\n",
        "        x_range         list of lists containing x data\n",
        "        y_data          list of lists containing y values\n",
        "        legend_labels   list of string legend labels\n",
        "        x_label         x axis label\n",
        "        y_label         y axis label\n",
        "    \"\"\"\n",
        "    plt.style.use(\"seaborn-whitegrid\")\n",
        "    plt.figure(figsize=(10, 7))\n",
        "\n",
        "    if len(y_data) != len(legend_labels):\n",
        "        raise TypeError(\n",
        "            \"Error: number of data sets does not match number of labels.\"\n",
        "        )\n",
        "\n",
        "    all_plots = []\n",
        "    for data, label in zip(y_data, legend_labels):\n",
        "        if log:\n",
        "            temp, = plt.loglog(x_range, data, label=label)\n",
        "        else:\n",
        "            temp, = plt.plot(x_range, data, label=label)\n",
        "        all_plots.append(temp)\n",
        "\n",
        "    plt.title(title)\n",
        "    plt.xlabel(x_label)\n",
        "    plt.ylabel(y_label)\n",
        "    plt.legend(handles=all_plots)\n",
        "    plt.show()\n",
        "\n",
        "# Getting the store timings data to display\n",
        "disk_x = store_many_timings[\"disk\"]\n",
        "lmdb_x = store_many_timings[\"lmdb\"]\n",
        "hdf5_x = store_many_timings[\"hdf5\"]\n",
        "\n",
        "plot_with_legend(\n",
        "    cutoffs[:3],  # Menggunakan 3 elemen pertama dari `cutoffs`\n",
        "    [disk_x[:3], lmdb_x[:3], hdf5_x[:3]],  # Menggunakan 3 elemen pertama dari `disk_x`, `lmdb_x`, `hdf5_x`\n",
        "    [\"PNG files\", \"LMDB\", \"HDF5\"],\n",
        "    \"Number of images\",\n",
        "    \"Seconds to store\",\n",
        "    \"Storage time\",\n",
        "    log=False,\n",
        ")\n",
        "\n",
        "plot_with_legend(\n",
        "    cutoffs[:3],  # Menggunakan 3 elemen pertama dari `cutoffs`\n",
        "    [disk_x[:3], lmdb_x[:3], hdf5_x[:3]],  # Menggunakan 3 elemen pertama dari `disk_x`, `lmdb_x`, `hdf5_x`\n",
        "    [\"PNG files\", \"LMDB\", \"HDF5\"],\n",
        "    \"Number of images\",\n",
        "    \"Seconds to store\",\n",
        "    \"Log storage time\",\n",
        "    log=True,\n",
        ")"
      ],
      "metadata": {
        "colab": {
          "base_uri": "https://localhost:8080/",
          "height": 1000
        },
        "id": "OUosYMliAhWm",
        "outputId": "e1ab9def-2dc6-45a4-eb89-99b2bb1e035a"
      },
      "execution_count": 51,
      "outputs": [
        {
          "output_type": "stream",
          "name": "stderr",
          "text": [
            "<ipython-input-51-a6064c6e05f0>:15: MatplotlibDeprecationWarning: The seaborn styles shipped by Matplotlib are deprecated since 3.6, as they no longer correspond to the styles shipped by seaborn. However, they will remain available as 'seaborn-v0_8-<style>'. Alternatively, directly use the seaborn API instead.\n",
            "  plt.style.use(\"seaborn-whitegrid\")\n"
          ]
        },
        {
          "output_type": "display_data",
          "data": {
            "text/plain": [
              "<Figure size 1000x700 with 1 Axes>"
            ],
            "image/png": "[encoded data removed]"
          },
          "metadata": {}
        },
        {
          "output_type": "stream",
          "name": "stderr",
          "text": [
            "<ipython-input-51-a6064c6e05f0>:15: MatplotlibDeprecationWarning: The seaborn styles shipped by Matplotlib are deprecated since 3.6, as they no longer correspond to the styles shipped by seaborn. However, they will remain available as 'seaborn-v0_8-<style>'. Alternatively, directly use the seaborn API instead.\n",
            "  plt.style.use(\"seaborn-whitegrid\")\n"
          ]
        },
        {
          "output_type": "display_data",
          "data": {
            "text/plain": [
              "<Figure size 1000x700 with 1 Axes>"
            ],
            "image/png": "[encoded data removed]"
          },
          "metadata": {}
        }
      ]
    },
    {
      "cell_type": "markdown",
      "source": [
        "Kode diatas dibuat untuk membuat plot yang menampilkan waktu penyimpanan dalam detik untuk tiga metode penyimpanan (disk, LMDB, dan HDF5) dengan berbagai batasan jumlah gambar.\n",
        "\n",
        "fungsi bernama `plot_with_legend` yang digunakan untuk membuat plot dengan beberapa dataset dan label legenda yang sesuai. Di dalam fungsi `plot_with_legend`, terdapat beberapa langkah sebagai berikut: Mengatur gaya plot menggunakan `plt.style.use`. Membuat sebuah figure plot dengan ukuran tertentu menggunakan `plt.figure`. Dilakukan pengecekan apakah jumlah dataset `y_data` sama dengan jumlah label legenda `legend_labels`.\n",
        "\n",
        "\n",
        "Di dalam loop, setiap dataset dan label legenda di-zip menggunakan `zip`, kemudian plot dibuat menggunakan `plt.plot` atau `plt.loglog` tergantung pada nilai `log`.\n",
        "Plot diberi judul menggunakan `plt.title`, label sumbu x menggunakan `plt.xlabel`, label sumbu y menggunakan `plt.ylabel`, dan legenda menggunakan `plt.legend`.\n",
        "Setelah itu, dilakukan pemanggilan fungsi `plot_with_legend` dua kali untuk mencetak dua plot yang berbeda.\n",
        "\n",
        "\n",
        "\n",
        "Plot pertama menampilkan waktu penyimpanan dalam detik untuk tiga metode penyimpanan (disk, LMDB, dan HDF5) dengan skala linier.\n",
        "Plot kedua menampilkan waktu penyimpanan dalam detik untuk tiga metode penyimpanan (disk, LMDB, dan HDF5) dengan skala logaritmik.\n"
      ],
      "metadata": {
        "id": "z4fZm5Uu5m6T"
      }
    },
    {
      "cell_type": "markdown",
      "source": [
        "Grafik pertama menunjukkan waktu penyimpanan normal dan tidak disesuaikan, menyoroti perbedaan drastis antara penyimpanan ke .pngfile dan LMDB atau HDF5.\n",
        "\n",
        "Grafik kedua menunjukkan logperubahan waktu, menyoroti bahwa HDF5 dimulai lebih lambat dibandingkan LMDB tetapi, dengan jumlah gambar yang lebih besar, hasilnya sedikit lebih cepat."
      ],
      "metadata": {
        "id": "p1QFMgJM5aub"
      }
    },
    {
      "cell_type": "markdown",
      "source": [
        "## Reading a Single Image"
      ],
      "metadata": {
        "id": "qqB85VgeP0vx"
      }
    },
    {
      "cell_type": "markdown",
      "source": [
        "## Reading From Disk"
      ],
      "metadata": {
        "id": "DJ_k4POIP5NS"
      }
    },
    {
      "cell_type": "code",
      "source": [
        "def read_single_disk(image_id):\n",
        "    \"\"\" Stores a single image to disk.\n",
        "        Parameters:\n",
        "        ---------------\n",
        "        image_id    integer unique ID for image\n",
        "\n",
        "        Returns:\n",
        "        ----------\n",
        "        image       image array, (32, 32, 3) to be stored\n",
        "        label       associated meta data, int label\n",
        "    \"\"\"\n",
        "    image = np.array(Image.open(disk_dir / f\"{image_id}.png\"))\n",
        "\n",
        "    with open(disk_dir / f\"{image_id}.csv\", \"r\") as csvfile:\n",
        "        reader = csv.reader(\n",
        "            csvfile, delimiter=\" \", quotechar=\"|\", quoting=csv.QUOTE_MINIMAL\n",
        "        )\n",
        "        label = int(next(reader)[0])\n",
        "\n",
        "    return image, label"
      ],
      "metadata": {
        "id": "mDLQZ2GGAq9_"
      },
      "execution_count": 52,
      "outputs": []
    },
    {
      "cell_type": "markdown",
      "source": [
        "kode dibuat untuk membaca sebuah gambar tunggal dan label terkait dari penyimpanan disk.\n",
        "\n",
        "fungsi bernama `read_single_disk` yang digunakan untuk membaca gambar dan label dari penyimpanan disk.Gambar dibaca menggunakan `Image.open` dari modul `PIL` dan dikonversi menjadi array menggunakan `np.array`. Gambar tersebut diambil dari file dengan nama yang sesuai dengan `image_id` dan ekstensi file PNG. Label dibaca dari file CSV dengan membuka file menggunakan `open` dan menggunakan `csv.reader` untuk membaca isi file. Label tersebut diambil dari baris pertama file CSV dan dikonversi menjadi integer. Gambar dan label dikembalikan sebagai output dari fungsi.\n",
        "\n",
        "Dengan menggunakan kode di atas, sebuah gambar tunggal dan label terkait dapat dibaca dari penyimpanan disk menggunakan fungsi `read_single_disk`."
      ],
      "metadata": {
        "id": "ycWSZKW16bJ8"
      }
    },
    {
      "cell_type": "markdown",
      "source": [
        "## Reading From LMDB"
      ],
      "metadata": {
        "id": "-Svotei0QBDp"
      }
    },
    {
      "cell_type": "code",
      "source": [
        "def read_single_lmdb(image_id):\n",
        "    \"\"\" Stores a single image to LMDB.\n",
        "        Parameters:\n",
        "        ---------------\n",
        "        image_id    integer unique ID for image\n",
        "\n",
        "        Returns:\n",
        "        ----------\n",
        "        image       image array, (32, 32, 3) to be stored\n",
        "        label       associated meta data, int label\n",
        "    \"\"\"\n",
        "    # Open the LMDB environment\n",
        "    env = lmdb.open(str(lmdb_dir / f\"single_lmdb\"), readonly=True)\n",
        "\n",
        "    # Start a new read transaction\n",
        "    with env.begin() as txn:\n",
        "        # Encode the key the same way as we stored it\n",
        "        data = txn.get(f\"{image_id:08}\".encode(\"ascii\"))\n",
        "        # Remember it's a CIFAR_Image object that is loaded\n",
        "        cifar_image = pickle.loads(data)\n",
        "        # Retrieve the relevant bits\n",
        "        image = cifar_image.get_image()\n",
        "        label = cifar_image.label\n",
        "    env.close()\n",
        "\n",
        "    return image, label"
      ],
      "metadata": {
        "id": "VACWgl7YAs1x"
      },
      "execution_count": 53,
      "outputs": []
    },
    {
      "cell_type": "markdown",
      "source": [
        "Kode tersebut dibuat untuk membaca sebuah gambar tunggal dan label terkait dari penyimpanan LMDB (Lightning Memory-Mapped Database).\n",
        "\n",
        "fungsi bernama `read_single_lmdb` yang digunakan untuk membaca gambar dan label dari penyimpanan LMDB. Lingkungan LMDB dibuka menggunakan `lmdb.open` dengan mode hanya baca (readonly=True). Lingkungan tersebut mewakili LMDB yang berada di direktori tertentu. Dalam blok `with`, dimulai transaksi baca baru menggunakan `env.begin()`.Kunci (key) dienkripsi dengan cara yang sama seperti saat menyimpannya. Kunci tersebut digunakan untuk mengambil data dari LMDB menggunakan `txn.get`. Data yang diambil di-deserialize menggunakan `pickle.loads` menjadi objek CIFAR_Image. Gambar dan label relevan diambil dari objek CIFAR_Image. Lingkungan LMDB ditutup menggunakan `env.close()`. Gambar dan label dikembalikan sebagai output dari fungsi.\n",
        "\n",
        "Dengan menggunakan kode di atas, sebuah gambar tunggal dan label terkait dapat dibaca dari penyimpanan LMDB menggunakan fungsi `read_single_lmdb`."
      ],
      "metadata": {
        "id": "0YmbqVMm63IB"
      }
    },
    {
      "cell_type": "markdown",
      "source": [
        "## Reading From HDF5"
      ],
      "metadata": {
        "id": "YSoarLYEQHYO"
      }
    },
    {
      "cell_type": "code",
      "source": [
        "def read_single_hdf5(image_id):\n",
        "    \"\"\" Stores a single image to HDF5.\n",
        "        Parameters:\n",
        "        ---------------\n",
        "        image_id    integer unique ID for image\n",
        "\n",
        "        Returns:\n",
        "        ----------\n",
        "        image       image array, (32, 32, 3) to be stored\n",
        "        label       associated meta data, int label\n",
        "    \"\"\"\n",
        "    # Open the HDF5 file\n",
        "    file = h5py.File(hdf5_dir / f\"{image_id}.h5\", \"r+\")\n",
        "\n",
        "    image = np.array(file[\"/image\"]).astype(\"uint8\")\n",
        "    label = int(np.array(file[\"/meta\"]).astype(\"uint8\"))\n",
        "\n",
        "    return image, label"
      ],
      "metadata": {
        "id": "pLQx7KNAAxVG"
      },
      "execution_count": 54,
      "outputs": []
    },
    {
      "cell_type": "markdown",
      "source": [
        "Kode diatas didefinisikan untuk membaca sebuah gambar tunggal dan label terkait dari file HDF5. dimana terdapat sebuah fungsi bernama `read_single_hdf5` yang digunakan untuk membaca gambar dan label dari file HDF5. File HDF5 dibuka menggunakan `h5py.File` dengan mode \"r+\" untuk membaca dan menulis ke file.\n",
        "Gambar dibaca dari dataset dengan nama \"/image\" menggunakan `np.array` dan dikonversi menjadi tipe data \"uint8\".\n",
        "Label dibaca dari dataset dengan nama \"/meta\" menggunakan `np.array` dan dikonversi menjadi tipe data \"uint8\".\n",
        "File HDF5 ditutup lalu gambar dan label dikembalikan sebagai output dari fungsi.\n",
        "\n",
        "Dengan menggunakan kode di atas, sebuah gambar tunggal dan label terkait dapat dibaca dari file HDF5 menggunakan fungsi `read_single_hdf5`."
      ],
      "metadata": {
        "id": "I4imsjcK7VCA"
      }
    },
    {
      "cell_type": "markdown",
      "source": [
        "Note that you access the various datasets in the file by indexing the file object using the dataset name preceded by a forward slash /. As before, you can create a dictionary containing all the read functions:"
      ],
      "metadata": {
        "id": "J7CDaMR7QQk4"
      }
    },
    {
      "cell_type": "code",
      "source": [
        "_read_single_funcs = dict(\n",
        "    disk=read_single_disk, lmdb=read_single_lmdb, hdf5=read_single_hdf5\n",
        ")"
      ],
      "metadata": {
        "id": "GXIBKVO6Azuv"
      },
      "execution_count": 55,
      "outputs": []
    },
    {
      "cell_type": "code",
      "source": [
        "from timeit import timeit\n",
        "\n",
        "read_single_timings = dict()\n",
        "\n",
        "for method in (\"disk\", \"lmdb\", \"hdf5\"):\n",
        "    t = timeit(\n",
        "        \"_read_single_funcs[method](0)\",\n",
        "        setup=\"image=images[0]; label=labels[0]\",\n",
        "        number=1,\n",
        "        globals=globals(),\n",
        "    )\n",
        "    read_single_timings[method] = t\n",
        "    print(f\"Method: {method}, Time usage: {t}\")"
      ],
      "metadata": {
        "colab": {
          "base_uri": "https://localhost:8080/"
        },
        "id": "64iiyPEIA03B",
        "outputId": "2830fb80-05a5-4f6f-eb1e-fa8fceb60e8f"
      },
      "execution_count": 60,
      "outputs": [
        {
          "output_type": "stream",
          "name": "stdout",
          "text": [
            "Method: disk, Time usage: 0.018249650000143447\n",
            "Method: lmdb, Time usage: 0.00900176899995131\n",
            "Method: hdf5, Time usage: 0.00971713200033264\n"
          ]
        }
      ]
    },
    {
      "cell_type": "markdown",
      "source": [
        "Dari output yang diberikan, metode yang memiliki waktu eksekusi paling rendah adalah metode \"lmdb\" dengan waktu eksekusi sekitar 0.009 detik. Metode \"disk\" memiliki waktu eksekusi sekitar 0.018 detik, sedangkan metode \"hdf5\" memiliki waktu eksekusi sekitar 0.010 detik.\n",
        "\n",
        "Dalam konteks ini, metode \"lmdb\" dapat dianggap paling efektif karena memiliki waktu eksekusi yang lebih rendah dibandingkan dengan metode lainnya."
      ],
      "metadata": {
        "id": "cog86WSQLw81"
      }
    },
    {
      "cell_type": "markdown",
      "source": [
        "Kode diatas dibuat untuk mengukur waktu eksekusi dari fungsi-fungsi pembaca gambar tunggal (read_single) yang menggunakan metode penyimpanan yang berbeda (disk, LMDB, dan HDF5).\n",
        "\n",
        "dictionary bernama `_read_single_funcs` yang berisi fungsi-fungsi pembaca gambar tunggal (`read_single_disk`, `read_single_lmdb`, `read_single_hdf5`) yang dikaitkan dengan metode penyimpanan yang sesuai (disk, LMDB, dan HDF5).Menggunakan modul `timeit` untuk mengukur waktu eksekusi dari setiap fungsi pembaca gambar tunggal. Terdapat sebuah dictionary bernama `read_single_timings` yang digunakan untuk menyimpan hasil pengukuran waktu eksekusi.\n",
        "\n",
        "Di dalam loop `for`, dilakukan pengukuran waktu eksekusi untuk setiap metode penyimpanan:\n",
        "Fungsi pembaca gambar tunggal yang sesuai dipanggil menggunakan `_read_single_funcs[method](0)`, dengan `method` sebagai parameter metode penyimpanan.\n",
        "Sebelum memanggil fungsi, dilakukan pengaturan awal menggunakan `setup` untuk menginisialisasi variabel `image` dan `label` dengan nilai gambar dan label yang telah ditentukan sebelumnya.\n",
        "Pengukuran waktu eksekusi dilakukan dengan `timeit`, dengan `number=1` untuk menjalankan sekali, dan `globals=globals()` untuk menggunakan lingkup global saat memanggil fungsi.\n",
        "Hasil pengukuran waktu eksekusi disimpan di dalam dictionary `read_single_timings`.\n",
        "   \n",
        "Dengan menggunakan kode di atas, waktu eksekusi dari fungsi-fungsi pembaca gambar tunggal dengan berbagai metode penyimpanan dapat diukur dan dicetak ke layar."
      ],
      "metadata": {
        "id": "L37sQ-hK7vSf"
      }
    },
    {
      "cell_type": "markdown",
      "source": [
        "### Adjusting the Code for Many Images"
      ],
      "metadata": {
        "id": "mPM85fAgQcEO"
      }
    },
    {
      "cell_type": "code",
      "source": [
        "def read_many_disk(num_images):\n",
        "    \"\"\" Reads image from disk.\n",
        "        Parameters:\n",
        "        ---------------\n",
        "        num_images   number of images to read\n",
        "\n",
        "        Returns:\n",
        "        ----------\n",
        "        images      images array, (N, 32, 32, 3) to be stored\n",
        "        labels      associated meta data, int label (N, 1)\n",
        "    \"\"\"\n",
        "    images, labels = [], []\n",
        "\n",
        "    # Loop over all IDs and read each image in one by one\n",
        "    for image_id in range(num_images):\n",
        "        images.append(np.array(Image.open(disk_dir / f\"{image_id}.png\")))\n",
        "\n",
        "    with open(disk_dir / f\"{num_images}.csv\", \"r\") as csvfile:\n",
        "        reader = csv.reader(\n",
        "            csvfile, delimiter=\" \", quotechar=\"|\", quoting=csv.QUOTE_MINIMAL\n",
        "        )\n",
        "        for row in reader:\n",
        "            labels.append(int(row[0]))\n",
        "    return images, labels\n",
        "\n",
        "def read_many_lmdb(num_images):\n",
        "    \"\"\" Reads image from LMDB.\n",
        "        Parameters:\n",
        "        ---------------\n",
        "        num_images   number of images to read\n",
        "\n",
        "        Returns:\n",
        "        ----------\n",
        "        images      images array, (N, 32, 32, 3) to be stored\n",
        "        labels      associated meta data, int label (N, 1)\n",
        "    \"\"\"\n",
        "    images, labels = [], []\n",
        "    env = lmdb.open(str(lmdb_dir / f\"{num_images}_lmdb\"), readonly=True)\n",
        "\n",
        "    # Start a new read transaction\n",
        "    with env.begin() as txn:\n",
        "        # Read all images in one single transaction, with one lock\n",
        "        # We could split this up into multiple transactions if needed\n",
        "        for image_id in range(num_images):\n",
        "            data = txn.get(f\"{image_id:08}\".encode(\"ascii\"))\n",
        "            # Remember that it's a CIFAR_Image object\n",
        "            # that is stored as the value\n",
        "            cifar_image = pickle.loads(data)\n",
        "            # Retrieve the relevant bits\n",
        "            images.append(cifar_image.get_image())\n",
        "            labels.append(cifar_image.label)\n",
        "    env.close()\n",
        "    return images, labels\n",
        "\n",
        "def read_many_hdf5(num_images):\n",
        "    \"\"\" Reads image from HDF5.\n",
        "        Parameters:\n",
        "        ---------------\n",
        "        num_images   number of images to read\n",
        "\n",
        "        Returns:\n",
        "        ----------\n",
        "        images      images array, (N, 32, 32, 3) to be stored\n",
        "        labels      associated meta data, int label (N, 1)\n",
        "    \"\"\"\n",
        "    images, labels = [], []\n",
        "\n",
        "    # Open the HDF5 file\n",
        "    file = h5py.File(hdf5_dir / f\"{num_images}_many.h5\", \"r+\")\n",
        "\n",
        "    images = np.array(file[\"/images\"]).astype(\"uint8\")\n",
        "    labels = np.array(file[\"/meta\"]).astype(\"uint8\")\n",
        "\n",
        "    return images, labels\n",
        "\n",
        "_read_many_funcs = dict(\n",
        "    disk=read_many_disk, lmdb=read_many_lmdb, hdf5=read_many_hdf5\n",
        ")"
      ],
      "metadata": {
        "id": "Cy-ig8J-A2bc"
      },
      "execution_count": 58,
      "outputs": []
    },
    {
      "cell_type": "markdown",
      "source": [
        "kode diatas berisi tiga fungsi untuk membaca gambar dari sumber data yang berbeda, yaitu dari disk, LMDB (Lightning Memory-Mapped Database), dan HDF5 (Hierarchical Data Format version 5). Setiap fungsi menerima parameter `num_images` yang menentukan jumlah gambar yang akan dibaca. Fungsi `read_many_disk` membaca gambar dari disk dengan membaca file gambar PNG dan file CSV yang berisi label. Fungsi `read_many_lmdb` membaca gambar dari LMDB dengan membaca data gambar dan label dari transaksi baca LMDB. Sedangkan fungsi `read_many_hdf5` membaca gambar dari file HDF5 dengan membaca data gambar dan label dari file tersebut. Untuk mempermudah pemanggilan fungsi-fungsi ini, terdapat juga kamus `_read_many_funcs` yang menghubungkan metode pembacaan gambar dengan fungsi yang sesuai untuk memprosesnya. Dengan begitu, pengguna dapat memilih metode yang sesuai untuk membaca gambar berdasarkan kebutuhan dan sumber datanya.\n"
      ],
      "metadata": {
        "id": "Ys9XNson850V"
      }
    },
    {
      "cell_type": "markdown",
      "source": [
        "## Experiment for Reading Many Images"
      ],
      "metadata": {
        "id": "C3uGpziUQqwE"
      }
    },
    {
      "cell_type": "code",
      "source": [
        "from timeit import timeit\n",
        "\n",
        "read_many_timings = {\"disk\": [], \"lmdb\": [], \"hdf5\": []}\n",
        "counter = 0  # Variabel untuk menghitung iterasi\n",
        "\n",
        "for cutoff in cutoffs:\n",
        "    for method in (\"disk\", \"lmdb\", \"hdf5\"):\n",
        "        if counter >= 12:  # Keluar dari loop setelah 12 iterasi\n",
        "            break\n",
        "\n",
        "        t = timeit(\n",
        "            \"_read_many_funcs[method](num_images)\",\n",
        "            setup=\"num_images=cutoff\",\n",
        "            number=1,\n",
        "            globals=globals(),\n",
        "        )\n",
        "        read_many_timings[method].append(t)\n",
        "\n",
        "        # Print out the method, cutoff, and elapsed time\n",
        "        print(f\"Method: {method}, No. images: {cutoff}, Time usage: {t}\")\n",
        "\n",
        "        counter += 1  # Menambahkan hitungan setiap kali iterasi dilakukan"
      ],
      "metadata": {
        "colab": {
          "base_uri": "https://localhost:8080/"
        },
        "id": "m2CDZGomNAVW",
        "outputId": "2ae271a7-1927-43d9-8ffe-c5fab5949bf3"
      },
      "execution_count": 62,
      "outputs": [
        {
          "output_type": "stream",
          "name": "stdout",
          "text": [
            "Method: disk, No. images: 10, Time usage: 0.0490568360000907\n",
            "Method: lmdb, No. images: 10, Time usage: 0.06093564200000401\n",
            "Method: hdf5, No. images: 10, Time usage: 0.008751630000006116\n",
            "Method: disk, No. images: 100, Time usage: 0.4052289790006398\n",
            "Method: lmdb, No. images: 100, Time usage: 0.012392483000439825\n",
            "Method: hdf5, No. images: 100, Time usage: 0.011990791000243917\n",
            "Method: disk, No. images: 1000, Time usage: 4.423991591999766\n",
            "Method: lmdb, No. images: 1000, Time usage: 0.03834275200006232\n",
            "Method: hdf5, No. images: 1000, Time usage: 0.01717636000012135\n",
            "Method: disk, No. images: 10000, Time usage: 42.50930209800026\n",
            "Method: lmdb, No. images: 10000, Time usage: 0.1970890890006558\n",
            "Method: hdf5, No. images: 10000, Time usage: 0.08705675300006988\n"
          ]
        }
      ]
    },
    {
      "cell_type": "markdown",
      "source": [
        "d=kode diatas menggunakan modul `timeit` untuk mengukur waktu eksekusi dari pembacaan gambar menggunakan tiga metode yang berbeda (disk, LMDB, HDF5) pada berbagai nilai `cutoffs`. Setiap nilai `cutoffs` menunjukkan jumlah gambar yang akan dibaca. Variabel `read_many_timings` digunakan untuk menyimpan waktu eksekusi dari masing-masing metode pembacaan gambar untuk setiap `cutoff`. Dalam perulangan, kode akan menjalankan fungsi `timeit` untuk setiap metode pembacaan gambar (`method`) dan setiap nilai `cutoff`, dan menyimpan waktu eksekusi ke dalam `read_many_timings`. Selain itu, hasil waktu eksekusi juga dicetak untuk setiap metode dan nilai `cutoff`. sehingga pengguna dapat melihat perbandingan waktu yang diperlukan oleh tiap metode pembacaan gambar untuk berbagai jumlah gambar yang dibaca."
      ],
      "metadata": {
        "id": "BXNLziq09Ikp"
      }
    },
    {
      "cell_type": "code",
      "source": [
        "disk_x_r = read_many_timings[\"disk\"]\n",
        "lmdb_x_r = read_many_timings[\"lmdb\"]\n",
        "hdf5_x_r = read_many_timings[\"hdf5\"]\n",
        "\n",
        "\n",
        "\n",
        "plot_with_legend(\n",
        "    cutoffs[:3],  # Menggunakan 3 elemen pertama dari `cutoffs`\n",
        "    [disk_x[:3], lmdb_x[:3], hdf5_x[:3]],  # Menggunakan 3 elemen pertama dari `disk_x`, `lmdb_x`, `hdf5_x`\n",
        "    [\"PNG files\", \"LMDB\", \"HDF5\"],\n",
        "    \"Number of images\",\n",
        "    \"Seconds to read\",\n",
        "    \"Read time\",\n",
        "    log=False,\n",
        ")\n",
        "\n",
        "plot_with_legend(\n",
        "    cutoffs[:3],  # Menggunakan 3 elemen pertama dari `cutoffs`\n",
        "    [disk_x[:3], lmdb_x[:3], hdf5_x[:3]],  # Menggunakan 3 elemen pertama dari `disk_x`, `lmdb_x`, `hdf5_x`\n",
        "    [\"PNG files\", \"LMDB\", \"HDF5\"],\n",
        "    \"Number of images\",\n",
        "    \"Seconds to read\",\n",
        "    \"Log read time\",\n",
        "    log=True,\n",
        ")"
      ],
      "metadata": {
        "colab": {
          "base_uri": "https://localhost:8080/",
          "height": 1000
        },
        "id": "AsL3ijuQA4Lj",
        "outputId": "2f5996e2-11f1-4e97-c5df-7af63b003372"
      },
      "execution_count": 68,
      "outputs": [
        {
          "output_type": "stream",
          "name": "stderr",
          "text": [
            "<ipython-input-51-a6064c6e05f0>:15: MatplotlibDeprecationWarning: The seaborn styles shipped by Matplotlib are deprecated since 3.6, as they no longer correspond to the styles shipped by seaborn. However, they will remain available as 'seaborn-v0_8-<style>'. Alternatively, directly use the seaborn API instead.\n",
            "  plt.style.use(\"seaborn-whitegrid\")\n"
          ]
        },
        {
          "output_type": "display_data",
          "data": {
            "text/plain": [
              "<Figure size 1000x700 with 1 Axes>"
            ],
            "image/png": "[encoded data removed]"
          },
          "metadata": {}
        },
        {
          "output_type": "stream",
          "name": "stderr",
          "text": [
            "<ipython-input-51-a6064c6e05f0>:15: MatplotlibDeprecationWarning: The seaborn styles shipped by Matplotlib are deprecated since 3.6, as they no longer correspond to the styles shipped by seaborn. However, they will remain available as 'seaborn-v0_8-<style>'. Alternatively, directly use the seaborn API instead.\n",
            "  plt.style.use(\"seaborn-whitegrid\")\n"
          ]
        },
        {
          "output_type": "display_data",
          "data": {
            "text/plain": [
              "<Figure size 1000x700 with 1 Axes>"
            ],
            "image/png": "[encoded data removed]"
          },
          "metadata": {}
        }
      ]
    },
    {
      "cell_type": "code",
      "source": [
        "plot_with_legend(\n",
        "    cutoffs[:3],  # Menggunakan 3 elemen pertama dari `cutoffs`\n",
        "    [disk_x_r[:3], lmdb_x_r[:3], hdf5_x_r[:3], disk_x[:3], lmdb_x, hdf5_x[:3]],  # Menggunakan 3 elemen pertama dari `disk_x`, `lmdb_x`, `hdf5_x`\n",
        "    [\n",
        "        \"Read PNG\",\n",
        "        \"Read LMDB\",\n",
        "        \"Read HDF5\",\n",
        "        \"Write PNG\",\n",
        "        \"Write LMDB\",\n",
        "        \"Write HDF5\",\n",
        "    ],\n",
        "    \"Number of images\",\n",
        "    \"Seconds\",\n",
        "    \"Store and Read Times\",\n",
        "    log=False,\n",
        ")\n"
      ],
      "metadata": {
        "colab": {
          "base_uri": "https://localhost:8080/",
          "height": 575
        },
        "id": "ciNpNTZNBE_S",
        "outputId": "0d02427d-78e1-467a-da97-3bb881aa249d"
      },
      "execution_count": 74,
      "outputs": [
        {
          "output_type": "stream",
          "name": "stderr",
          "text": [
            "<ipython-input-51-a6064c6e05f0>:15: MatplotlibDeprecationWarning: The seaborn styles shipped by Matplotlib are deprecated since 3.6, as they no longer correspond to the styles shipped by seaborn. However, they will remain available as 'seaborn-v0_8-<style>'. Alternatively, directly use the seaborn API instead.\n",
            "  plt.style.use(\"seaborn-whitegrid\")\n"
          ]
        },
        {
          "output_type": "display_data",
          "data": {
            "text/plain": [
              "<Figure size 1000x700 with 1 Axes>"
            ],
            "image/png": "[encoded data removed]"
          },
          "metadata": {}
        }
      ]
    },
    {
      "cell_type": "markdown",
      "source": [],
      "metadata": {
        "id": "betTzm0FQHkJ"
      }
    },
    {
      "cell_type": "markdown",
      "source": [
        "Berdasarkan gambar yang diberikan, dapat disimpulkan bahwa waktu baca (read time) untuk file PNG lebih cepat dibandingkan dengan metode penyimpanan lainnya, seperti LMDB dan HDF5. Terlihat bahwa waktu baca untuk file PNG secara signifikan lebih cepat dibandingkan dengan metode penyimpanan lainnya, yang dapat dilihat dari perbedaan warna pada grafik."
      ],
      "metadata": {
        "id": "78W0Nn4_QHH1"
      }
    },
    {
      "cell_type": "code",
      "source": [],
      "metadata": {
        "id": "rXf7NO21PDmB"
      },
      "execution_count": null,
      "outputs": []
    }
  ]
}